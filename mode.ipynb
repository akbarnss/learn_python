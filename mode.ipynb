{
 "cells": [
  {
   "cell_type": "code",
   "execution_count": 6,
   "metadata": {},
   "outputs": [],
   "source": [
    "# x = [ 1,2,3,2,5,2,7,2 ]\n",
    "# def getMode(list) :\n",
    "#     countList = [];\n",
    "#     # create countList\n",
    "#     for num in list :\n",
    "#         check = False;\n",
    "#         for list1 in countList :\n",
    "#             if(list1[0] == num) :\n",
    "#                 list1[1] += 1;\n",
    "#                 check = True;\n",
    "#         if(check == False) :\n",
    "#             countList.append([num, 0]);\n",
    "#     # create list of mode/s\n",
    "#     maxFrequency = 0;\n",
    "#     modes = [];\n",
    "#     for list1 in countList :\n",
    "#         if (list1[1] > maxFrequency) :\n",
    "#             modes = [list1[0]];\n",
    "#             maxFrequency = list1[1];\n",
    "#         elif (list1[1] == maxFrequency) :\n",
    "#             modes.append(list1[0]);\n",
    "#     # if every value appears same amount of times\n",
    "#     if (len(modes) == len(countList)) :\n",
    "#         modes = [];\n",
    "#     return modes;\n",
    "# print(getMode(x));"
   ]
  },
  {
   "cell_type": "markdown",
   "metadata": {},
   "source": [
    "#### Step 1, Find Unique Element"
   ]
  },
  {
   "cell_type": "code",
   "execution_count": 1,
   "metadata": {},
   "outputs": [],
   "source": [
    "data = [ 1,2,3,2,5,2,7,2 ]"
   ]
  },
  {
   "cell_type": "code",
   "execution_count": 2,
   "metadata": {},
   "outputs": [],
   "source": [
    "elements= list(set(data))"
   ]
  },
  {
   "cell_type": "code",
   "execution_count": 3,
   "metadata": {},
   "outputs": [
    {
     "data": {
      "text/plain": [
       "[1, 2, 3, 5, 7]"
      ]
     },
     "execution_count": 3,
     "metadata": {},
     "output_type": "execute_result"
    }
   ],
   "source": [
    "elements"
   ]
  },
  {
   "cell_type": "markdown",
   "metadata": {},
   "source": [
    "#### Step 2, Count the frequency"
   ]
  },
  {
   "cell_type": "code",
   "execution_count": 4,
   "metadata": {},
   "outputs": [],
   "source": [
    "sum_elements = {}\n",
    "for element in elements:\n",
    "    sum_element = 0\n",
    "    for item in data:\n",
    "        if element == item:\n",
    "            sum_element += 1\n",
    "    sum_elements[element] = sum_element"
   ]
  },
  {
   "cell_type": "code",
   "execution_count": 5,
   "metadata": {},
   "outputs": [
    {
     "data": {
      "text/plain": [
       "{1: 1, 2: 4, 3: 1, 5: 1, 7: 1}"
      ]
     },
     "execution_count": 5,
     "metadata": {},
     "output_type": "execute_result"
    }
   ],
   "source": [
    "sum_elements"
   ]
  },
  {
   "cell_type": "code",
   "execution_count": 6,
   "metadata": {},
   "outputs": [],
   "source": [
    "# item filtering\n",
    "sum_elements = {}\n",
    "for element in elements:\n",
    "    sum_element = len(list(filter(lambda x: item == x, data)))\n",
    "    sum_elements[element] = sum_element"
   ]
  },
  {
   "cell_type": "code",
   "execution_count": 7,
   "metadata": {},
   "outputs": [
    {
     "data": {
      "text/plain": [
       "{1: 4, 2: 4, 3: 4, 5: 4, 7: 4}"
      ]
     },
     "execution_count": 7,
     "metadata": {},
     "output_type": "execute_result"
    }
   ],
   "source": [
    "sum_elements"
   ]
  },
  {
   "cell_type": "code",
   "execution_count": 8,
   "metadata": {},
   "outputs": [],
   "source": [
    "#Count Function\n",
    "sum_elements = {}\n",
    "for element in elements:\n",
    "    sum_elements[element] = data.count(element)"
   ]
  },
  {
   "cell_type": "code",
   "execution_count": 9,
   "metadata": {},
   "outputs": [
    {
     "data": {
      "text/plain": [
       "{1: 1, 2: 4, 3: 1, 5: 1, 7: 1}"
      ]
     },
     "execution_count": 9,
     "metadata": {},
     "output_type": "execute_result"
    }
   ],
   "source": [
    "sum_elements"
   ]
  },
  {
   "cell_type": "markdown",
   "metadata": {},
   "source": [
    "#### Step 3, Sort data based on sum"
   ]
  },
  {
   "cell_type": "code",
   "execution_count": 10,
   "metadata": {},
   "outputs": [
    {
     "name": "stdout",
     "output_type": "stream",
     "text": [
      "[1, 2, 3, 5, 7]\n"
     ]
    }
   ],
   "source": [
    "elements = list(sum_elements.keys())\n",
    "print(elements)"
   ]
  },
  {
   "cell_type": "code",
   "execution_count": 11,
   "metadata": {},
   "outputs": [
    {
     "name": "stdout",
     "output_type": "stream",
     "text": [
      "[1, 4, 1, 1, 1]\n"
     ]
    }
   ],
   "source": [
    "sum_elements = list(sum_elements.values())\n",
    "print(sum_elements)"
   ]
  },
  {
   "cell_type": "code",
   "execution_count": 12,
   "metadata": {},
   "outputs": [],
   "source": [
    "def \n",
    "    new_elements = []\n",
    "    total_element = len(elements)\n",
    "    for i in range(total_element):\n",
    "        idx_max=0\n",
    "        for idx in range(len(sum_elements)):\n",
    "\n",
    "            if sum_elements[idx] > sum_elements[idx_max]:\n",
    "                idx_max = idx\n",
    "\n",
    "        key = elements[idx_max]\n",
    "        value= sum_elements[idx_max]\n",
    "        new_elements.append((key, value))\n",
    "\n",
    "        elements.pop(idx_max)\n",
    "        sum_elements.pop(idx_max)"
   ]
  },
  {
   "cell_type": "code",
   "execution_count": 13,
   "metadata": {},
   "outputs": [],
   "source": [
    "modes = new_elements[0][0]\n",
    "least = new_elements[-1][0]"
   ]
  },
  {
   "cell_type": "code",
   "execution_count": 14,
   "metadata": {},
   "outputs": [
    {
     "name": "stdout",
     "output_type": "stream",
     "text": [
      "2\n"
     ]
    }
   ],
   "source": [
    "print(modes)"
   ]
  },
  {
   "cell_type": "code",
   "execution_count": 15,
   "metadata": {
    "scrolled": true
   },
   "outputs": [
    {
     "name": "stdout",
     "output_type": "stream",
     "text": [
      "7\n"
     ]
    }
   ],
   "source": [
    "print(least)"
   ]
  },
  {
   "cell_type": "code",
   "execution_count": null,
   "metadata": {},
   "outputs": [],
   "source": []
  }
 ],
 "metadata": {
  "kernelspec": {
   "display_name": "Python 3",
   "language": "python",
   "name": "python3"
  },
  "language_info": {
   "codemirror_mode": {
    "name": "ipython",
    "version": 3
   },
   "file_extension": ".py",
   "mimetype": "text/x-python",
   "name": "python",
   "nbconvert_exporter": "python",
   "pygments_lexer": "ipython3",
   "version": "3.7.1"
  }
 },
 "nbformat": 4,
 "nbformat_minor": 2
}
